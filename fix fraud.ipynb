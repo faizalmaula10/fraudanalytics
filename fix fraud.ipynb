{
 "cells": [
  {
   "cell_type": "code",
   "execution_count": 1,
   "id": "33607b00",
   "metadata": {},
   "outputs": [],
   "source": [
    "import pandas as pd\n",
    "import numpy as np"
   ]
  },
  {
   "cell_type": "code",
   "execution_count": 2,
   "id": "dd4e9162",
   "metadata": {},
   "outputs": [],
   "source": [
    "df=pd.read_csv('fraud_oracle.csv')"
   ]
  },
  {
   "cell_type": "code",
   "execution_count": 3,
   "id": "88bd23b1",
   "metadata": {
    "scrolled": true
   },
   "outputs": [
    {
     "name": "stdout",
     "output_type": "stream",
     "text": [
      "<class 'pandas.core.frame.DataFrame'>\n",
      "RangeIndex: 15420 entries, 0 to 15419\n",
      "Data columns (total 33 columns):\n",
      " #   Column                Non-Null Count  Dtype \n",
      "---  ------                --------------  ----- \n",
      " 0   Month                 15420 non-null  object\n",
      " 1   WeekOfMonth           15420 non-null  int64 \n",
      " 2   DayOfWeek             15420 non-null  object\n",
      " 3   Make                  15420 non-null  object\n",
      " 4   AccidentArea          15420 non-null  object\n",
      " 5   DayOfWeekClaimed      15420 non-null  object\n",
      " 6   MonthClaimed          15420 non-null  object\n",
      " 7   WeekOfMonthClaimed    15420 non-null  int64 \n",
      " 8   Sex                   15420 non-null  object\n",
      " 9   MaritalStatus         15420 non-null  object\n",
      " 10  Age                   15420 non-null  int64 \n",
      " 11  Fault                 15420 non-null  object\n",
      " 12  PolicyType            15420 non-null  object\n",
      " 13  VehicleCategory       15420 non-null  object\n",
      " 14  VehiclePrice          15420 non-null  object\n",
      " 15  FraudFound_P          15420 non-null  int64 \n",
      " 16  PolicyNumber          15420 non-null  int64 \n",
      " 17  RepNumber             15420 non-null  int64 \n",
      " 18  Deductible            15420 non-null  int64 \n",
      " 19  DriverRating          15420 non-null  int64 \n",
      " 20  Days_Policy_Accident  15420 non-null  object\n",
      " 21  Days_Policy_Claim     15420 non-null  object\n",
      " 22  PastNumberOfClaims    15420 non-null  object\n",
      " 23  AgeOfVehicle          15420 non-null  object\n",
      " 24  AgeOfPolicyHolder     15420 non-null  object\n",
      " 25  PoliceReportFiled     15420 non-null  object\n",
      " 26  WitnessPresent        15420 non-null  object\n",
      " 27  AgentType             15420 non-null  object\n",
      " 28  NumberOfSuppliments   15420 non-null  object\n",
      " 29  AddressChange_Claim   15420 non-null  object\n",
      " 30  NumberOfCars          15420 non-null  object\n",
      " 31  Year                  15420 non-null  int64 \n",
      " 32  BasePolicy            15420 non-null  object\n",
      "dtypes: int64(9), object(24)\n",
      "memory usage: 3.9+ MB\n"
     ]
    }
   ],
   "source": [
    "df.info()"
   ]
  },
  {
   "cell_type": "code",
   "execution_count": 4,
   "id": "6ceb53e8",
   "metadata": {},
   "outputs": [],
   "source": [
    "df=df.drop(['Month','WeekOfMonth','DayOfWeek','PolicyNumber','RepNumber','Deductible'],axis=1)"
   ]
  },
  {
   "cell_type": "code",
   "execution_count": 5,
   "id": "bc27ba88",
   "metadata": {},
   "outputs": [],
   "source": [
    "nominal=df[['Make','DayOfWeekClaimed','MonthClaimed','MaritalStatus','PolicyType','VehicleCategory','BasePolicy']]"
   ]
  },
  {
   "cell_type": "code",
   "execution_count": 6,
   "id": "28ef5ef6",
   "metadata": {},
   "outputs": [
    {
     "name": "stdout",
     "output_type": "stream",
     "text": [
      "       Make_Accura  Make_BMW  Make_Chevrolet  Make_Dodge  Make_Ferrari  \\\n",
      "0                0         0               0           0             0   \n",
      "1                0         0               0           0             0   \n",
      "2                0         0               0           0             0   \n",
      "3                0         0               0           0             0   \n",
      "4                0         0               0           0             0   \n",
      "...            ...       ...             ...         ...           ...   \n",
      "15415            0         0               0           0             0   \n",
      "15416            0         0               0           0             0   \n",
      "15417            0         0               0           0             0   \n",
      "15418            0         0               0           0             0   \n",
      "15419            0         0               0           0             0   \n",
      "\n",
      "       Make_Ford  Make_Honda  Make_Jaguar  Make_Lexus  Make_Mazda  ...  \\\n",
      "0              0           1            0           0           0  ...   \n",
      "1              0           1            0           0           0  ...   \n",
      "2              0           1            0           0           0  ...   \n",
      "3              0           0            0           0           0  ...   \n",
      "4              0           1            0           0           0  ...   \n",
      "...          ...         ...          ...         ...         ...  ...   \n",
      "15415          0           0            0           0           0  ...   \n",
      "15416          0           0            0           0           0  ...   \n",
      "15417          0           0            0           0           0  ...   \n",
      "15418          0           0            0           0           0  ...   \n",
      "15419          0           0            0           0           0  ...   \n",
      "\n",
      "       PolicyType_Sport - Liability  PolicyType_Utility - All Perils  \\\n",
      "0                                 1                                0   \n",
      "1                                 0                                0   \n",
      "2                                 0                                0   \n",
      "3                                 0                                0   \n",
      "4                                 0                                0   \n",
      "...                             ...                              ...   \n",
      "15415                             0                                0   \n",
      "15416                             0                                0   \n",
      "15417                             0                                0   \n",
      "15418                             0                                0   \n",
      "15419                             0                                0   \n",
      "\n",
      "       PolicyType_Utility - Collision  PolicyType_Utility - Liability  \\\n",
      "0                                   0                               0   \n",
      "1                                   0                               0   \n",
      "2                                   0                               0   \n",
      "3                                   0                               0   \n",
      "4                                   0                               0   \n",
      "...                               ...                             ...   \n",
      "15415                               0                               0   \n",
      "15416                               0                               0   \n",
      "15417                               0                               0   \n",
      "15418                               0                               0   \n",
      "15419                               0                               0   \n",
      "\n",
      "       VehicleCategory_Sedan  VehicleCategory_Sport  VehicleCategory_Utility  \\\n",
      "0                          0                      1                        0   \n",
      "1                          0                      1                        0   \n",
      "2                          0                      1                        0   \n",
      "3                          0                      1                        0   \n",
      "4                          0                      1                        0   \n",
      "...                      ...                    ...                      ...   \n",
      "15415                      1                      0                        0   \n",
      "15416                      0                      1                        0   \n",
      "15417                      1                      0                        0   \n",
      "15418                      1                      0                        0   \n",
      "15419                      1                      0                        0   \n",
      "\n",
      "       BasePolicy_All Perils  BasePolicy_Collision  BasePolicy_Liability  \n",
      "0                          0                     0                     1  \n",
      "1                          0                     1                     0  \n",
      "2                          0                     1                     0  \n",
      "3                          0                     0                     1  \n",
      "4                          0                     1                     0  \n",
      "...                      ...                   ...                   ...  \n",
      "15415                      0                     1                     0  \n",
      "15416                      0                     0                     1  \n",
      "15417                      0                     1                     0  \n",
      "15418                      1                     0                     0  \n",
      "15419                      0                     1                     0  \n",
      "\n",
      "[15420 rows x 59 columns]\n"
     ]
    }
   ],
   "source": [
    "# Get dummy variables\n",
    "dummy = pd.get_dummies(nominal)\n",
    "\n",
    "print(dummy)"
   ]
  },
  {
   "cell_type": "code",
   "execution_count": 7,
   "id": "5de2961a",
   "metadata": {},
   "outputs": [],
   "source": [
    "df=df.drop(nominal,axis=1)"
   ]
  },
  {
   "cell_type": "code",
   "execution_count": 8,
   "id": "ce56f767",
   "metadata": {},
   "outputs": [
    {
     "data": {
      "text/plain": [
       "AccidentArea            0\n",
       "WeekOfMonthClaimed      0\n",
       "Sex                     0\n",
       "Age                     0\n",
       "Fault                   0\n",
       "VehiclePrice            0\n",
       "FraudFound_P            0\n",
       "DriverRating            0\n",
       "Days_Policy_Accident    0\n",
       "Days_Policy_Claim       0\n",
       "PastNumberOfClaims      0\n",
       "AgeOfVehicle            0\n",
       "AgeOfPolicyHolder       0\n",
       "PoliceReportFiled       0\n",
       "WitnessPresent          0\n",
       "AgentType               0\n",
       "NumberOfSuppliments     0\n",
       "AddressChange_Claim     0\n",
       "NumberOfCars            0\n",
       "Year                    0\n",
       "dtype: int64"
      ]
     },
     "execution_count": 8,
     "metadata": {},
     "output_type": "execute_result"
    }
   ],
   "source": [
    "df.isnull().sum()"
   ]
  },
  {
   "cell_type": "code",
   "execution_count": 9,
   "id": "8e72908f",
   "metadata": {},
   "outputs": [],
   "source": [
    "df=pd.concat([df,dummy],axis=1)"
   ]
  },
  {
   "cell_type": "code",
   "execution_count": 10,
   "id": "fa958bb9",
   "metadata": {},
   "outputs": [],
   "source": [
    "from sklearn.preprocessing import LabelEncoder"
   ]
  },
  {
   "cell_type": "code",
   "execution_count": 11,
   "id": "0a730bd4",
   "metadata": {},
   "outputs": [
    {
     "name": "stdout",
     "output_type": "stream",
     "text": [
      "       AccidentArea  WeekOfMonthClaimed  Sex  Age  Fault  VehiclePrice  \\\n",
      "0                 1                   1    0   21      0             5   \n",
      "1                 1                   4    1   34      0             5   \n",
      "2                 1                   2    1   47      0             5   \n",
      "3                 0                   1    1   65      1             0   \n",
      "4                 1                   2    0   27      1             5   \n",
      "...             ...                 ...  ...  ...    ...           ...   \n",
      "15415             1                   5    1   35      0             0   \n",
      "15416             1                   1    1   30      0             1   \n",
      "15417             0                   1    1   24      0             0   \n",
      "15418             1                   2    0   34      1             0   \n",
      "15419             1                   3    1   21      0             0   \n",
      "\n",
      "       FraudFound_P  DriverRating  Days_Policy_Accident  Days_Policy_Claim  \\\n",
      "0                 0             1                     3                  2   \n",
      "1                 0             4                     3                  2   \n",
      "2                 0             3                     3                  2   \n",
      "3                 0             2                     3                  2   \n",
      "4                 0             1                     3                  2   \n",
      "...             ...           ...                   ...                ...   \n",
      "15415             1             4                     3                  2   \n",
      "15416             0             3                     3                  2   \n",
      "15417             1             4                     3                  2   \n",
      "15418             0             4                     3                  2   \n",
      "15419             1             4                     3                  2   \n",
      "\n",
      "       ...  PolicyType_Sport - Liability  PolicyType_Utility - All Perils  \\\n",
      "0      ...                             1                                0   \n",
      "1      ...                             0                                0   \n",
      "2      ...                             0                                0   \n",
      "3      ...                             0                                0   \n",
      "4      ...                             0                                0   \n",
      "...    ...                           ...                              ...   \n",
      "15415  ...                             0                                0   \n",
      "15416  ...                             0                                0   \n",
      "15417  ...                             0                                0   \n",
      "15418  ...                             0                                0   \n",
      "15419  ...                             0                                0   \n",
      "\n",
      "       PolicyType_Utility - Collision  PolicyType_Utility - Liability  \\\n",
      "0                                   0                               0   \n",
      "1                                   0                               0   \n",
      "2                                   0                               0   \n",
      "3                                   0                               0   \n",
      "4                                   0                               0   \n",
      "...                               ...                             ...   \n",
      "15415                               0                               0   \n",
      "15416                               0                               0   \n",
      "15417                               0                               0   \n",
      "15418                               0                               0   \n",
      "15419                               0                               0   \n",
      "\n",
      "       VehicleCategory_Sedan  VehicleCategory_Sport  VehicleCategory_Utility  \\\n",
      "0                          0                      1                        0   \n",
      "1                          0                      1                        0   \n",
      "2                          0                      1                        0   \n",
      "3                          0                      1                        0   \n",
      "4                          0                      1                        0   \n",
      "...                      ...                    ...                      ...   \n",
      "15415                      1                      0                        0   \n",
      "15416                      0                      1                        0   \n",
      "15417                      1                      0                        0   \n",
      "15418                      1                      0                        0   \n",
      "15419                      1                      0                        0   \n",
      "\n",
      "       BasePolicy_All Perils  BasePolicy_Collision  BasePolicy_Liability  \n",
      "0                          0                     0                     1  \n",
      "1                          0                     1                     0  \n",
      "2                          0                     1                     0  \n",
      "3                          0                     0                     1  \n",
      "4                          0                     1                     0  \n",
      "...                      ...                   ...                   ...  \n",
      "15415                      0                     1                     0  \n",
      "15416                      0                     0                     1  \n",
      "15417                      0                     1                     0  \n",
      "15418                      1                     0                     0  \n",
      "15419                      0                     1                     0  \n",
      "\n",
      "[15420 rows x 79 columns]\n"
     ]
    }
   ],
   "source": [
    "# Initialize LabelEncoder\n",
    "label_encoder = LabelEncoder()\n",
    "\n",
    "# Apply LabelEncoder to object columns\n",
    "object_cols = df.select_dtypes(include=['object']).columns\n",
    "for col in object_cols:\n",
    "    df[col] = label_encoder.fit_transform(df[col])\n",
    "\n",
    "# Convert boolean columns to int (True: 1, False: 0)\n",
    "bool_cols = df.select_dtypes(include=['bool']).columns\n",
    "for col in bool_cols:\n",
    "    df[col] = df[col].astype(int)\n",
    "\n",
    "print(df)"
   ]
  },
  {
   "cell_type": "code",
   "execution_count": 12,
   "id": "a8506db3",
   "metadata": {},
   "outputs": [],
   "source": [
    "X=df.drop(['FraudFound_P'],axis=1)"
   ]
  },
  {
   "cell_type": "code",
   "execution_count": 13,
   "id": "cb4cb7c5",
   "metadata": {},
   "outputs": [],
   "source": [
    "y=df['FraudFound_P']"
   ]
  },
  {
   "cell_type": "code",
   "execution_count": 15,
   "id": "0e5b575e",
   "metadata": {},
   "outputs": [],
   "source": [
    "import matplotlib.pyplot as plt"
   ]
  },
  {
   "cell_type": "code",
   "execution_count": 44,
   "id": "9b12103c",
   "metadata": {},
   "outputs": [],
   "source": [
    "from sklearn.preprocessing import StandardScaler\n",
    "\n",
    "# Create an instance of StandardScaler\n",
    "scaler = StandardScaler()\n",
    "\n",
    "# Fit the scaler to your training data\n",
    "scaler.fit(X)\n",
    "X=scaler.transform(X)"
   ]
  },
  {
   "cell_type": "code",
   "execution_count": 46,
   "id": "e99a2645",
   "metadata": {},
   "outputs": [
    {
     "data": {
      "text/plain": [
       "array([[ 0.34001881, -1.34540805, -2.31773614, ..., -0.63680739,\n",
       "        -0.79395581,  1.44168609],\n",
       "       [ 0.34001881,  1.03729462,  0.4314555 , ..., -0.63680739,\n",
       "         1.25951594, -0.69363227],\n",
       "       [ 0.34001881, -0.55117383,  0.4314555 , ..., -0.63680739,\n",
       "         1.25951594, -0.69363227],\n",
       "       ...,\n",
       "       [-2.94101376, -1.34540805,  0.4314555 , ..., -0.63680739,\n",
       "         1.25951594, -0.69363227],\n",
       "       [ 0.34001881, -0.55117383, -2.31773614, ...,  1.57033353,\n",
       "        -0.79395581, -0.69363227],\n",
       "       [ 0.34001881,  0.24306039,  0.4314555 , ..., -0.63680739,\n",
       "         1.25951594, -0.69363227]])"
      ]
     },
     "execution_count": 46,
     "metadata": {},
     "output_type": "execute_result"
    }
   ],
   "source": [
    "X"
   ]
  },
  {
   "cell_type": "code",
   "execution_count": 47,
   "id": "9d3f3794",
   "metadata": {},
   "outputs": [
    {
     "data": {
      "image/png": "[encoded data removed]",
      "text/plain": [
       "<Figure size 432x288 with 1 Axes>"
      ]
     },
     "metadata": {
      "needs_background": "light"
     },
     "output_type": "display_data"
    }
   ],
   "source": [
    "fraud_by_year = df.groupby(['Year', 'FraudFound_P']).size().unstack(fill_value=0)\n",
    "\n",
    "# Plotting\n",
    "fraud_by_year.plot(kind='bar', stacked=True)\n",
    "plt.xlabel('Year')\n",
    "plt.ylabel('Total Fraud Cases')\n",
    "plt.title('Total Fraud Cases by Year and Fraud Status')\n",
    "plt.legend(title='Fraud Status', labels=['No Fraud', 'Fraud'])\n",
    "plt.show()"
   ]
  },
  {
   "cell_type": "code",
   "execution_count": 48,
   "id": "1cd7b572",
   "metadata": {},
   "outputs": [
    {
     "name": "stdout",
     "output_type": "stream",
     "text": [
      "Accuracy: 0.935473411154345\n"
     ]
    }
   ],
   "source": [
    "from sklearn.linear_model import LogisticRegression\n",
    "from sklearn.model_selection import train_test_split\n",
    "from sklearn.metrics import accuracy_score\n",
    "\n",
    "# Split data into training and testing sets\n",
    "X_train, X_test, y_train, y_test = train_test_split(X, y, test_size=0.2, random_state=42)\n",
    "\n",
    "# Initialize Logistic Regression model\n",
    "model = LogisticRegression()\n",
    "\n",
    "# Fit the model on the training data\n",
    "model.fit(X_train, y_train)\n",
    "\n",
    "# Predict on the testing data\n",
    "y_pred = model.predict(X_test)\n",
    "\n",
    "# Calculate accuracy\n",
    "accuracy = accuracy_score(y_test, y_pred)\n",
    "print(\"Accuracy:\", accuracy)\n"
   ]
  },
  {
   "cell_type": "code",
   "execution_count": 49,
   "id": "6e7529c0",
   "metadata": {},
   "outputs": [],
   "source": [
    "from sklearn.metrics import classification_report,confusion_matrix"
   ]
  },
  {
   "cell_type": "code",
   "execution_count": 50,
   "id": "07b463e7",
   "metadata": {},
   "outputs": [
    {
     "name": "stdout",
     "output_type": "stream",
     "text": [
      "              precision    recall  f1-score   support\n",
      "\n",
      "           0       1.00      0.94      0.97      3082\n",
      "           1       0.00      0.00      0.00         2\n",
      "\n",
      "    accuracy                           0.94      3084\n",
      "   macro avg       0.50      0.47      0.48      3084\n",
      "weighted avg       1.00      0.94      0.97      3084\n",
      "\n"
     ]
    }
   ],
   "source": [
    "print(classification_report(y_pred,y_test))"
   ]
  },
  {
   "cell_type": "code",
   "execution_count": 51,
   "id": "b885a27e",
   "metadata": {},
   "outputs": [
    {
     "name": "stdout",
     "output_type": "stream",
     "text": [
      "[[2885  197]\n",
      " [   2    0]]\n"
     ]
    }
   ],
   "source": [
    "print(confusion_matrix(y_pred,y_test))"
   ]
  },
  {
   "cell_type": "code",
   "execution_count": 52,
   "id": "03699e22",
   "metadata": {},
   "outputs": [],
   "source": [
    "from imblearn.under_sampling import RandomUnderSampler"
   ]
  },
  {
   "cell_type": "code",
   "execution_count": 53,
   "id": "7c6f00c5",
   "metadata": {},
   "outputs": [],
   "source": [
    "rus=RandomUnderSampler(sampling_strategy=1)\n",
    "X_res,y_res=rus.fit_resample(X,y)\n"
   ]
  },
  {
   "cell_type": "code",
   "execution_count": 54,
   "id": "a530ebf9",
   "metadata": {},
   "outputs": [
    {
     "data": {
      "text/plain": [
       "0    923\n",
       "1    923\n",
       "Name: FraudFound_P, dtype: int64"
      ]
     },
     "execution_count": 54,
     "metadata": {},
     "output_type": "execute_result"
    }
   ],
   "source": [
    "y_res.value_counts()"
   ]
  },
  {
   "cell_type": "code",
   "execution_count": 55,
   "id": "39842e62",
   "metadata": {},
   "outputs": [],
   "source": [
    "X_train, X_test, y_train, y_test = train_test_split(X_res, y_res, test_size=0.2, random_state=0)"
   ]
  },
  {
   "cell_type": "code",
   "execution_count": 56,
   "id": "f1395020",
   "metadata": {},
   "outputs": [
    {
     "name": "stdout",
     "output_type": "stream",
     "text": [
      "Accuracy: 0.7702702702702703\n"
     ]
    }
   ],
   "source": [
    "from sklearn.linear_model import LogisticRegression\n",
    "from sklearn.model_selection import train_test_split\n",
    "from sklearn.metrics import accuracy_score\n",
    "\n",
    "\n",
    "# Initialize Logistic Regression model\n",
    "model = LogisticRegression()\n",
    "\n",
    "# Fit the model on the training data\n",
    "model.fit(X_train, y_train)\n",
    "\n",
    "# Predict on the testing data\n",
    "y_pred = model.predict(X_test)\n",
    "\n",
    "# Calculate accuracy\n",
    "accuracy = accuracy_score(y_test, y_pred)\n",
    "print(\"Accuracy:\", accuracy)\n"
   ]
  },
  {
   "cell_type": "code",
   "execution_count": 57,
   "id": "be21ab77",
   "metadata": {},
   "outputs": [
    {
     "name": "stdout",
     "output_type": "stream",
     "text": [
      "              precision    recall  f1-score   support\n",
      "\n",
      "           0       0.63      0.87      0.73       131\n",
      "           1       0.91      0.72      0.80       239\n",
      "\n",
      "    accuracy                           0.77       370\n",
      "   macro avg       0.77      0.79      0.76       370\n",
      "weighted avg       0.81      0.77      0.78       370\n",
      "\n"
     ]
    }
   ],
   "source": [
    "print(classification_report(y_pred,y_test))"
   ]
  },
  {
   "cell_type": "code",
   "execution_count": 58,
   "id": "ed62b9d1",
   "metadata": {},
   "outputs": [
    {
     "name": "stdout",
     "output_type": "stream",
     "text": [
      "[[114  17]\n",
      " [ 68 171]]\n"
     ]
    }
   ],
   "source": [
    "print(confusion_matrix(y_pred,y_test))"
   ]
  },
  {
   "cell_type": "code",
   "execution_count": 59,
   "id": "087246fd",
   "metadata": {},
   "outputs": [],
   "source": [
    "from sklearn.model_selection import train_test_split,RandomizedSearchCV,GridSearchCV\n",
    "from sklearn.tree import DecisionTreeClassifier\n",
    "from sklearn.ensemble import RandomForestClassifier\n",
    "from sklearn.linear_model import LogisticRegression\n",
    "from sklearn.tree import DecisionTreeClassifier\n",
    "\n",
    "# Define your decision tree classifier\n",
    "dt = DecisionTreeClassifier(random_state=0)\n",
    "\n",
    "# Define the parameter grid for hyperparameter tuning\n",
    "params = {\n",
    "    \"criterion\": [\"gini\", \"entropy\"],\n",
    "    \"max_depth\": [2, 3, 4, 5, 7, 9],\n",
    "    \"min_samples_split\": [5, 10, 15, 20, 50, 100],\n",
    "    \"min_samples_leaf\": [5, 10, 15, 20, 50, 80, 100]\n",
    "}\n",
    "\n",
    "# Perform grid search using GridSearchCV\n",
    "grid_search = RandomizedSearchCV(estimator=dt,param_distributions=params,cv=5,n_jobs=2)\n",
    "\n",
    "# Fit the grid search object to your training data\n",
    "grid_search.fit(X_train, y_train)\n",
    "\n",
    "# Get the best estimator from the grid search\n",
    "best_dt = grid_search.best_estimator_\n",
    "\n",
    "# Use the best estimator to make predictions on your test data\n",
    "y_pred = best_dt.predict(X_test)\n"
   ]
  },
  {
   "cell_type": "code",
   "execution_count": 60,
   "id": "c6782746",
   "metadata": {},
   "outputs": [
    {
     "name": "stdout",
     "output_type": "stream",
     "text": [
      "              precision    recall  f1-score   support\n",
      "\n",
      "           0       0.96      0.57      0.72       182\n",
      "           1       0.70      0.98      0.82       188\n",
      "\n",
      "    accuracy                           0.78       370\n",
      "   macro avg       0.83      0.78      0.77       370\n",
      "weighted avg       0.83      0.78      0.77       370\n",
      "\n"
     ]
    }
   ],
   "source": [
    "print(classification_report(y_test,y_pred))"
   ]
  },
  {
   "cell_type": "code",
   "execution_count": 61,
   "id": "2572fbe0",
   "metadata": {},
   "outputs": [
    {
     "name": "stdout",
     "output_type": "stream",
     "text": [
      "[[104  78]\n",
      " [  4 184]]\n"
     ]
    }
   ],
   "source": [
    "print(confusion_matrix(y_test, y_pred))"
   ]
  },
  {
   "cell_type": "code",
   "execution_count": 62,
   "id": "b988719c",
   "metadata": {},
   "outputs": [],
   "source": [
    "# using RandomizedsearchCV for hyperparameter tuning\n",
    "params_rf={\"criterion\":[\"gini\",\"entropy\"],\n",
    "          \"max_depth\":[9,11,13,15,17,20],\n",
    "          \"min_samples_split\":[20,50,100,200],\n",
    "          \"min_samples_leaf\":[2,5,20,10],\n",
    "          \"n_estimators\":[50,100,150,200],\n",
    "          \"bootstrap\":[True],\n",
    "          \"max_features\":[\"sqrt\",\"log2\"],\n",
    "          \"max_samples\":[.7,.75,.8,.9]}\n",
    "\n",
    "# Perform grid search using GridSearchCV\n",
    "grid_search = RandomizedSearchCV(estimator=RandomForestClassifier(),param_distributions=params_rf,cv=5,n_jobs=2)\n",
    "\n",
    "# Fit the grid search object to your training data\n",
    "grid_search.fit(X_train, y_train)\n",
    "\n",
    "# Get the best estimator from the grid search\n",
    "best_rf = grid_search.best_estimator_\n",
    "\n",
    "# Use the best estimator to make predictions on your test data\n",
    "y_pred = best_rf.predict(X_test)"
   ]
  },
  {
   "cell_type": "code",
   "execution_count": 63,
   "id": "c919b469",
   "metadata": {},
   "outputs": [
    {
     "name": "stdout",
     "output_type": "stream",
     "text": [
      "              precision    recall  f1-score   support\n",
      "\n",
      "           0       0.90      0.63      0.74       182\n",
      "           1       0.72      0.93      0.81       188\n",
      "\n",
      "    accuracy                           0.78       370\n",
      "   macro avg       0.81      0.78      0.77       370\n",
      "weighted avg       0.81      0.78      0.78       370\n",
      "\n"
     ]
    }
   ],
   "source": [
    "print(classification_report(y_test,y_pred))"
   ]
  },
  {
   "cell_type": "code",
   "execution_count": 64,
   "id": "1f908361",
   "metadata": {},
   "outputs": [
    {
     "name": "stdout",
     "output_type": "stream",
     "text": [
      "[[114  68]\n",
      " [ 13 175]]\n"
     ]
    }
   ],
   "source": [
    "print(confusion_matrix(y_test, y_pred))"
   ]
  },
  {
   "cell_type": "code",
   "execution_count": 65,
   "id": "90f27c15",
   "metadata": {},
   "outputs": [
    {
     "name": "stdout",
     "output_type": "stream",
     "text": [
      "Requirement already satisfied: xgboost in c:\\users\\public\\anaconda3\\lib\\site-packages (2.0.3)\n",
      "Requirement already satisfied: numpy in c:\\users\\public\\anaconda3\\lib\\site-packages (from xgboost) (1.22.4)\n",
      "Requirement already satisfied: scipy in c:\\users\\public\\anaconda3\\lib\\site-packages (from xgboost) (1.7.3)\n",
      "Note: you may need to restart the kernel to use updated packages.\n"
     ]
    }
   ],
   "source": [
    "pip install xgboost"
   ]
  },
  {
   "cell_type": "code",
   "execution_count": 66,
   "id": "23ed69bb",
   "metadata": {},
   "outputs": [],
   "source": [
    "from xgboost import XGBClassifier"
   ]
  },
  {
   "cell_type": "code",
   "execution_count": 67,
   "id": "b7c18ea8",
   "metadata": {},
   "outputs": [
    {
     "name": "stdout",
     "output_type": "stream",
     "text": [
      "Confusion Matrix:\n",
      "[[105  77]\n",
      " [  4 184]]\n"
     ]
    }
   ],
   "source": [
    "from xgboost import XGBClassifier\n",
    "from sklearn.model_selection import RandomizedSearchCV\n",
    "from scipy.stats import uniform, randint\n",
    "\n",
    "# Define the parameter grid for hyperparameter tuning\n",
    "params = {\n",
    "    'learning_rate': uniform(0.01, 0.3),  # Learning rate\n",
    "    'max_depth': randint(3, 10),           # Maximum tree depth\n",
    "    'min_child_weight': randint(1, 10),    # Minimum sum of instance weight (hessian) needed in a child\n",
    "    'subsample': uniform(0.6, 0.4),        # Subsample ratio of the training instances\n",
    "    'colsample_bytree': uniform(0.6, 0.4), # Subsample ratio of columns when constructing each tree\n",
    "    'gamma': uniform(0, 0.5),              # Minimum loss reduction required to make a further partition on a leaf node of the tree\n",
    "    'reg_alpha': uniform(0, 0.5),          # L1 regularization term on weights\n",
    "    'reg_lambda': uniform(0, 0.5)          # L2 regularization term on weights\n",
    "}\n",
    "\n",
    "# Define XGBoost classifier\n",
    "xgb = XGBClassifier(objective='binary:logistic', random_state=0)\n",
    "\n",
    "# Perform randomized search using RandomizedSearchCV\n",
    "random_search = RandomizedSearchCV(estimator=xgb, param_distributions=params,\n",
    "                                   n_iter=100, cv=5, random_state=0, n_jobs=-1)\n",
    "\n",
    "# Fit the randomized search object to your training data\n",
    "random_search.fit(X_train, y_train)\n",
    "\n",
    "# Get the best estimator from the randomized search\n",
    "best_xgb = random_search.best_estimator_\n",
    "\n",
    "# Use the best estimator to make predictions on your test data\n",
    "y_pred = best_xgb.predict(X_test)\n",
    "\n",
    "# Calculate confusion matrix\n",
    "conf_matrix = confusion_matrix(y_test, y_pred)\n",
    "\n",
    "print(\"Confusion Matrix:\")\n",
    "print(conf_matrix)\n"
   ]
  },
  {
   "cell_type": "code",
   "execution_count": 68,
   "id": "c0891337",
   "metadata": {},
   "outputs": [
    {
     "name": "stdout",
     "output_type": "stream",
     "text": [
      "              precision    recall  f1-score   support\n",
      "\n",
      "           0       0.96      0.58      0.72       182\n",
      "           1       0.70      0.98      0.82       188\n",
      "\n",
      "    accuracy                           0.78       370\n",
      "   macro avg       0.83      0.78      0.77       370\n",
      "weighted avg       0.83      0.78      0.77       370\n",
      "\n"
     ]
    }
   ],
   "source": [
    "print(classification_report(y_test,y_pred))"
   ]
  },
  {
   "cell_type": "code",
   "execution_count": null,
   "id": "d70ee535",
   "metadata": {},
   "outputs": [],
   "source": []
  },
  {
   "cell_type": "code",
   "execution_count": 69,
   "id": "c2287484",
   "metadata": {},
   "outputs": [],
   "source": [
    "from imblearn.over_sampling import SMOTE"
   ]
  },
  {
   "cell_type": "code",
   "execution_count": 70,
   "id": "4696c40b",
   "metadata": {},
   "outputs": [],
   "source": [
    "smote = SMOTE(random_state=42)\n",
    "\n",
    "# Fit and resample the dataset\n",
    "X_resampled, y_resampled = smote.fit_resample(X, y)"
   ]
  },
  {
   "cell_type": "code",
   "execution_count": 71,
   "id": "e6bcb5e8",
   "metadata": {},
   "outputs": [],
   "source": [
    "X_train, X_test, y_train, y_test = train_test_split(X_resampled, y_resampled, test_size=0.2, random_state=0)"
   ]
  },
  {
   "cell_type": "code",
   "execution_count": 73,
   "id": "d136e62a",
   "metadata": {},
   "outputs": [
    {
     "data": {
      "text/plain": [
       "0    14497\n",
       "1    14497\n",
       "Name: FraudFound_P, dtype: int64"
      ]
     },
     "execution_count": 73,
     "metadata": {},
     "output_type": "execute_result"
    }
   ],
   "source": [
    "y_resampled.value_counts()"
   ]
  },
  {
   "cell_type": "code",
   "execution_count": 74,
   "id": "38fb40ce",
   "metadata": {},
   "outputs": [
    {
     "name": "stdout",
     "output_type": "stream",
     "text": [
      "Accuracy: 0.7630625969994826\n"
     ]
    }
   ],
   "source": [
    "from sklearn.linear_model import LogisticRegression\n",
    "from sklearn.model_selection import train_test_split\n",
    "from sklearn.metrics import accuracy_score\n",
    "\n",
    "\n",
    "# Initialize Logistic Regression model\n",
    "model = LogisticRegression()\n",
    "\n",
    "# Fit the model on the training data\n",
    "model.fit(X_train, y_train)\n",
    "\n",
    "# Predict on the testing data\n",
    "y_pred = model.predict(X_test)\n",
    "\n",
    "# Calculate accuracy\n",
    "accuracy = accuracy_score(y_test, y_pred)\n",
    "print(\"Accuracy:\", accuracy)\n"
   ]
  },
  {
   "cell_type": "code",
   "execution_count": 75,
   "id": "b4960c0b",
   "metadata": {},
   "outputs": [
    {
     "name": "stdout",
     "output_type": "stream",
     "text": [
      "Confusion Matrix:\n",
      "[[1832 1067]\n",
      " [ 307 2593]]\n"
     ]
    }
   ],
   "source": [
    "conf_matrix = confusion_matrix(y_test, y_pred)\n",
    "\n",
    "print(\"Confusion Matrix:\")\n",
    "print(conf_matrix)\n"
   ]
  },
  {
   "cell_type": "code",
   "execution_count": 76,
   "id": "51aaca38",
   "metadata": {},
   "outputs": [
    {
     "name": "stdout",
     "output_type": "stream",
     "text": [
      "              precision    recall  f1-score   support\n",
      "\n",
      "           0       0.86      0.63      0.73      2899\n",
      "           1       0.71      0.89      0.79      2900\n",
      "\n",
      "    accuracy                           0.76      5799\n",
      "   macro avg       0.78      0.76      0.76      5799\n",
      "weighted avg       0.78      0.76      0.76      5799\n",
      "\n"
     ]
    }
   ],
   "source": [
    "print(classification_report(y_test,y_pred))"
   ]
  },
  {
   "cell_type": "code",
   "execution_count": 77,
   "id": "1d8c709e",
   "metadata": {},
   "outputs": [],
   "source": [
    "from sklearn.model_selection import train_test_split,RandomizedSearchCV,GridSearchCV\n",
    "from sklearn.tree import DecisionTreeClassifier\n",
    "from sklearn.ensemble import RandomForestClassifier\n",
    "from sklearn.linear_model import LogisticRegression\n",
    "from sklearn.tree import DecisionTreeClassifier\n",
    "\n",
    "# Define your decision tree classifier\n",
    "dt = DecisionTreeClassifier(random_state=0)\n",
    "\n",
    "# Define the parameter grid for hyperparameter tuning\n",
    "params = {\n",
    "    \"criterion\": [\"gini\", \"entropy\"],\n",
    "    \"max_depth\": [2, 3, 4, 5, 7, 9],\n",
    "    \"min_samples_split\": [5, 10, 15, 20, 50, 100],\n",
    "    \"min_samples_leaf\": [5, 10, 15, 20, 50, 80, 100]\n",
    "}\n",
    "\n",
    "# Perform grid search using GridSearchCV\n",
    "grid_search = RandomizedSearchCV(estimator=dt,param_distributions=params,cv=5,n_jobs=2)\n",
    "\n",
    "# Fit the grid search object to your training data\n",
    "grid_search.fit(X_train, y_train)\n",
    "\n",
    "# Get the best estimator from the grid search\n",
    "best_dt = grid_search.best_estimator_\n",
    "\n",
    "# Use the best estimator to make predictions on your test data\n",
    "y_pred = best_dt.predict(X_test)\n"
   ]
  },
  {
   "cell_type": "code",
   "execution_count": 78,
   "id": "9380bd2a",
   "metadata": {},
   "outputs": [
    {
     "name": "stdout",
     "output_type": "stream",
     "text": [
      "Confusion Matrix:\n",
      "[[2675  224]\n",
      " [ 414 2486]]\n"
     ]
    }
   ],
   "source": [
    "conf_matrix = confusion_matrix(y_test, y_pred)\n",
    "\n",
    "print(\"Confusion Matrix:\")\n",
    "print(conf_matrix)"
   ]
  },
  {
   "cell_type": "code",
   "execution_count": 79,
   "id": "02692f60",
   "metadata": {},
   "outputs": [
    {
     "name": "stdout",
     "output_type": "stream",
     "text": [
      "              precision    recall  f1-score   support\n",
      "\n",
      "           0       0.87      0.92      0.89      2899\n",
      "           1       0.92      0.86      0.89      2900\n",
      "\n",
      "    accuracy                           0.89      5799\n",
      "   macro avg       0.89      0.89      0.89      5799\n",
      "weighted avg       0.89      0.89      0.89      5799\n",
      "\n"
     ]
    }
   ],
   "source": [
    "print(classification_report(y_test,y_pred))"
   ]
  },
  {
   "cell_type": "code",
   "execution_count": 80,
   "id": "cb91c003",
   "metadata": {},
   "outputs": [],
   "source": [
    "# using RandomizedsearchCV for hyperparameter tuning\n",
    "params_rf={\"criterion\":[\"gini\",\"entropy\"],\n",
    "          \"max_depth\":[9,11,13,15,17,20],\n",
    "          \"min_samples_split\":[20,50,100,200],\n",
    "          \"min_samples_leaf\":[2,5,20,10],\n",
    "          \"n_estimators\":[50,100,150,200],\n",
    "          \"bootstrap\":[True],\n",
    "          \"max_features\":[\"sqrt\",\"log2\"],\n",
    "          \"max_samples\":[.7,.75,.8,.9]}\n",
    "\n",
    "# Perform grid search using GridSearchCV\n",
    "grid_search = RandomizedSearchCV(estimator=RandomForestClassifier(),param_distributions=params_rf,cv=5,n_jobs=2)\n",
    "\n",
    "# Fit the grid search object to your training data\n",
    "grid_search.fit(X_train, y_train)\n",
    "\n",
    "# Get the best estimator from the grid search\n",
    "best_rf = grid_search.best_estimator_\n",
    "\n",
    "# Use the best estimator to make predictions on your test data\n",
    "y_pred = best_rf.predict(X_test)"
   ]
  },
  {
   "cell_type": "code",
   "execution_count": 81,
   "id": "b68ad0e9",
   "metadata": {},
   "outputs": [
    {
     "name": "stdout",
     "output_type": "stream",
     "text": [
      "Confusion Matrix:\n",
      "[[2730  169]\n",
      " [ 138 2762]]\n"
     ]
    }
   ],
   "source": [
    "conf_matrix = confusion_matrix(y_test, y_pred)\n",
    "\n",
    "print(\"Confusion Matrix:\")\n",
    "print(conf_matrix)"
   ]
  },
  {
   "cell_type": "code",
   "execution_count": 82,
   "id": "b24d1771",
   "metadata": {},
   "outputs": [
    {
     "name": "stdout",
     "output_type": "stream",
     "text": [
      "              precision    recall  f1-score   support\n",
      "\n",
      "           0       0.95      0.94      0.95      2899\n",
      "           1       0.94      0.95      0.95      2900\n",
      "\n",
      "    accuracy                           0.95      5799\n",
      "   macro avg       0.95      0.95      0.95      5799\n",
      "weighted avg       0.95      0.95      0.95      5799\n",
      "\n"
     ]
    }
   ],
   "source": [
    "print(classification_report(y_test,y_pred))"
   ]
  },
  {
   "cell_type": "code",
   "execution_count": 83,
   "id": "592e3560",
   "metadata": {},
   "outputs": [
    {
     "name": "stdout",
     "output_type": "stream",
     "text": [
      "Confusion Matrix:\n",
      "[[2880   19]\n",
      " [ 159 2741]]\n"
     ]
    }
   ],
   "source": [
    "from xgboost import XGBClassifier\n",
    "from sklearn.model_selection import RandomizedSearchCV\n",
    "from scipy.stats import uniform, randint\n",
    "\n",
    "# Define the parameter grid for hyperparameter tuning\n",
    "params = {\n",
    "    'learning_rate': uniform(0.01, 0.3),  # Learning rate\n",
    "    'max_depth': randint(3, 10),           # Maximum tree depth\n",
    "    'min_child_weight': randint(1, 10),    # Minimum sum of instance weight (hessian) needed in a child\n",
    "    'subsample': uniform(0.6, 0.4),        # Subsample ratio of the training instances\n",
    "    'colsample_bytree': uniform(0.6, 0.4), # Subsample ratio of columns when constructing each tree\n",
    "    'gamma': uniform(0, 0.5),              # Minimum loss reduction required to make a further partition on a leaf node of the tree\n",
    "    'reg_alpha': uniform(0, 0.5),          # L1 regularization term on weights\n",
    "    'reg_lambda': uniform(0, 0.5)          # L2 regularization term on weights\n",
    "}\n",
    "\n",
    "# Define XGBoost classifier\n",
    "xgb = XGBClassifier(objective='binary:logistic', random_state=0)\n",
    "\n",
    "# Perform randomized search using RandomizedSearchCV\n",
    "random_search = RandomizedSearchCV(estimator=xgb, param_distributions=params,\n",
    "                                   n_iter=100, cv=5, random_state=0, n_jobs=-1)\n",
    "\n",
    "# Fit the randomized search object to your training data\n",
    "random_search.fit(X_train, y_train)\n",
    "\n",
    "# Get the best estimator from the randomized search\n",
    "best_xgb = random_search.best_estimator_\n",
    "\n",
    "# Use the best estimator to make predictions on your test data\n",
    "y_pred = best_xgb.predict(X_test)\n",
    "\n",
    "# Calculate confusion matrix\n",
    "conf_matrix = confusion_matrix(y_test, y_pred)\n",
    "\n",
    "print(\"Confusion Matrix:\")\n",
    "print(conf_matrix)\n"
   ]
  },
  {
   "cell_type": "code",
   "execution_count": 84,
   "id": "9881c7cc",
   "metadata": {},
   "outputs": [
    {
     "name": "stdout",
     "output_type": "stream",
     "text": [
      "              precision    recall  f1-score   support\n",
      "\n",
      "           0       0.95      0.99      0.97      2899\n",
      "           1       0.99      0.95      0.97      2900\n",
      "\n",
      "    accuracy                           0.97      5799\n",
      "   macro avg       0.97      0.97      0.97      5799\n",
      "weighted avg       0.97      0.97      0.97      5799\n",
      "\n"
     ]
    }
   ],
   "source": [
    "print(classification_report(y_test,y_pred))"
   ]
  },
  {
   "cell_type": "code",
   "execution_count": null,
   "id": "c1cb6a6e",
   "metadata": {},
   "outputs": [],
   "source": []
  }
 ],
 "metadata": {
  "kernelspec": {
   "display_name": "Python 3 (ipykernel)",
   "language": "python",
   "name": "python3"
  },
  "language_info": {
   "codemirror_mode": {
    "name": "ipython",
    "version": 3
   },
   "file_extension": ".py",
   "mimetype": "text/x-python",
   "name": "python",
   "nbconvert_exporter": "python",
   "pygments_lexer": "ipython3",
   "version": "3.9.19"
  }
 },
 "nbformat": 4,
 "nbformat_minor": 5
}
